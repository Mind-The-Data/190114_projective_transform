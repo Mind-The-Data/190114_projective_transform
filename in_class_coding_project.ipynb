{
 "cells": [
  {
   "cell_type": "markdown",
   "metadata": {},
   "source": [
    "## In Class: 2019/01/14\n",
    "## Projective transforms\n",
    "\n",
    "Your task for the day is to write a program that simulates taking a digital photograph.  Imagine that we have a camera positioned at the origin, with a focal length of 1000 pixels and a sensor size of 2000 x 1000 pixels.  Coordinates.txt contains $p$ (point coordinates) and $I$ (intensity values) of a simulated landscape.  Use a projective transform to simulate a digital image of the landscape.  (Don't forget to crop your image to the sensor size). \n",
    "\n",
    "Some relevant equations:\n",
    "\n",
    "3D world coordinates to generalized camera coordinates:\n",
    "$$x = p_0/p_2$$\n",
    "$$y = p_1/p_2$$\n",
    "\n",
    "generalized camera coordinates to pixel values:\n",
    "$$ u = f x + c_x $$\n",
    "$$ v = f y + c_y, $$\n",
    "where $u$ and $v$ are the pixel locations, $f$ is the focal length, and $c_x$ and $c_y$ are the pixel coordinates of the image center.  "
   ]
  },
  {
   "cell_type": "code",
   "execution_count": null,
   "metadata": {},
   "outputs": [],
   "source": []
  }
 ],
 "metadata": {
  "kernelspec": {
   "display_name": "Python 3",
   "language": "python",
   "name": "python3"
  },
  "language_info": {
   "codemirror_mode": {
    "name": "ipython",
    "version": 3
   },
   "file_extension": ".py",
   "mimetype": "text/x-python",
   "name": "python",
   "nbconvert_exporter": "python",
   "pygments_lexer": "ipython3",
   "version": "3.6.5"
  }
 },
 "nbformat": 4,
 "nbformat_minor": 2
}
